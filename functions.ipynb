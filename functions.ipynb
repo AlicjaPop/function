{
 "cells": [
  {
   "cell_type": "markdown",
   "id": "4fe9a677",
   "metadata": {},
   "source": [
    "# tworzenie funkcji zaczynamy od słowa def. następnie, wpisujemy nazwę funkcji, a w nawiasie zaraz za nią wpisujemy zmienne, które muszą zostać podane w celu wykonania funkcji, na końcu używamy dwukropka. w kolejnym wierszu umieszczamy kod, który ma zostać wykonany dla zmiennych podanych w nawiasie, np:"
   ]
  },
  {
   "cell_type": "code",
   "execution_count": 6,
   "id": "4e11f18a",
   "metadata": {},
   "outputs": [],
   "source": [
    "def add (x,y):\n",
    "\tresult = x + y\n",
    "\treturn result"
   ]
  },
  {
   "cell_type": "markdown",
   "id": "6173ea19",
   "metadata": {},
   "source": [
    "# aby funkcja zadziałała, należy podać dwie zmienne, np."
   ]
  },
  {
   "cell_type": "code",
   "execution_count": 7,
   "id": "258a1948",
   "metadata": {},
   "outputs": [
    {
     "data": {
      "text/plain": [
       "9"
      ]
     },
     "execution_count": 7,
     "metadata": {},
     "output_type": "execute_result"
    }
   ],
   "source": [
    "add(5,4)"
   ]
  },
  {
   "cell_type": "code",
   "execution_count": null,
   "id": "bf359aca",
   "metadata": {},
   "outputs": [],
   "source": []
  }
 ],
 "metadata": {
  "kernelspec": {
   "display_name": "Python 3 (ipykernel)",
   "language": "python",
   "name": "python3"
  },
  "language_info": {
   "codemirror_mode": {
    "name": "ipython",
    "version": 3
   },
   "file_extension": ".py",
   "mimetype": "text/x-python",
   "name": "python",
   "nbconvert_exporter": "python",
   "pygments_lexer": "ipython3",
   "version": "3.10.10"
  }
 },
 "nbformat": 4,
 "nbformat_minor": 5
}
